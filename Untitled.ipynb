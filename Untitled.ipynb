{
 "cells": [
  {
   "cell_type": "markdown",
   "id": "d1f4c310",
   "metadata": {},
   "source": [
    "# 1.program to find area of circle"
   ]
  },
  {
   "cell_type": "code",
   "execution_count": 1,
   "id": "886d6370",
   "metadata": {},
   "outputs": [
    {
     "name": "stdout",
     "output_type": "stream",
     "text": [
      "12\n",
      "12\n",
      "144\n"
     ]
    }
   ],
   "source": [
    "length=int(input())\n",
    "breadth=int(input())\n",
    "area=(length)*(breadth)\n",
    "print(area)"
   ]
  },
  {
   "cell_type": "markdown",
   "id": "3b5e1712",
   "metadata": {},
   "source": [
    "# 2.program to perform all arithmetic operations"
   ]
  },
  {
   "cell_type": "code",
   "execution_count": 2,
   "id": "fc71b3dd",
   "metadata": {},
   "outputs": [
    {
     "name": "stdout",
     "output_type": "stream",
     "text": [
      "3\n",
      "4\n",
      "2\n",
      "-1\n"
     ]
    }
   ],
   "source": [
    "a=int(input())\n",
    "b=int(input())\n",
    "n=int(input())\n",
    "while n>0:\n",
    "    if n==1:\n",
    "        print(a+b)\n",
    "        break\n",
    "    elif n==2:\n",
    "        print(a-b)\n",
    "        break\n",
    "    elif n==3:\n",
    "        print(a//b)\n",
    "        break\n",
    "    elif n==4:\n",
    "        print(a%b)\n",
    "        break\n",
    "    else:\n",
    "        print()\n",
    "        break\n"
   ]
  },
  {
   "cell_type": "markdown",
   "id": "dfb8e991",
   "metadata": {},
   "source": [
    "# 3. program to solve quadratic equations"
   ]
  },
  {
   "cell_type": "code",
   "execution_count": 52,
   "id": "ed0dd805",
   "metadata": {},
   "outputs": [
    {
     "name": "stdout",
     "output_type": "stream",
     "text": [
      "Enter the coeffiecent of x2 : 2\n",
      "Enter the coeffiecent of x : 1\n",
      "Enter the constant term : 3\n",
      "Complex Roots\n",
      "-0.25  + i -23.0\n",
      "-0.25  - i -23.0\n"
     ]
    }
   ],
   "source": [
    "a = float(input(\"Enter the coeffiecent of x2 : \"))\n",
    "b = float(input(\"Enter the coeffiecent of x : \"))\n",
    "c = float(input(\"Enter the constant term : \"))\n",
    "\n",
    "result = b*b - 4*a*c\n",
    "dis = result**1/2\n",
    "\n",
    "\n",
    "if dis > 0:\n",
    "        print(\" real and different roots \")\n",
    "        print((-b + result)/(2 * a))\n",
    "        print((-b - result)/(2 * a))\n",
    "\n",
    "elif dis == 0: \n",
    "        print(\" real and same roots\") \n",
    "        print(-b / (2 * a)) \n",
    "      \n",
    "    # when discriminant is less than 0\n",
    "else:\n",
    "        print(\"Complex Roots\") \n",
    "        print(- b / (2 * a), \" + i\", result) \n",
    "        print(- b / (2 * a), \" - i\", result) "
   ]
  },
  {
   "cell_type": "markdown",
   "id": "1fd0323d",
   "metadata": {},
   "source": [
    "# 4. program to swap to numbers"
   ]
  },
  {
   "cell_type": "code",
   "execution_count": 7,
   "id": "7fd679cf",
   "metadata": {},
   "outputs": [
    {
     "data": {
      "text/plain": [
       "[2, 1, 4, 3, 5]"
      ]
     },
     "execution_count": 7,
     "metadata": {},
     "output_type": "execute_result"
    }
   ],
   "source": [
    "def swap(a):\n",
    "    for i in range(0,len(a)-1,2):\n",
    "            a[i],a[i+1]=a[i+1],a[i]\n",
    "    return a\n",
    "a=[1,2,3,4,5]\n",
    "swap(a)"
   ]
  },
  {
   "cell_type": "markdown",
   "id": "7a344a4c",
   "metadata": {},
   "source": [
    "# 5. check leap year"
   ]
  },
  {
   "cell_type": "code",
   "execution_count": 30,
   "id": "303a5612",
   "metadata": {},
   "outputs": [
    {
     "name": "stdout",
     "output_type": "stream",
     "text": [
      "2008 is leap year\n"
     ]
    }
   ],
   "source": [
    "def leap_year(year):\n",
    "    if ((year)%4==0 and (year%100!=0 or year%400==0)):\n",
    "        print(year,\"is leap year\")\n",
    "    else:\n",
    "        print(year,\"not leap year\")\n",
    "year=2008\n",
    "leap_year(year)"
   ]
  },
  {
   "cell_type": "markdown",
   "id": "d464c9c9",
   "metadata": {},
   "source": [
    "# 6. display multiplication table"
   ]
  },
  {
   "cell_type": "code",
   "execution_count": 38,
   "id": "98810bb9",
   "metadata": {},
   "outputs": [
    {
     "name": "stdout",
     "output_type": "stream",
     "text": [
      "5 x 1 = 5\n",
      "5 x 2 = 10\n",
      "5 x 3 = 15\n",
      "5 x 4 = 20\n",
      "5 x 5 = 25\n",
      "5 x 6 = 30\n",
      "5 x 7 = 35\n",
      "5 x 8 = 40\n",
      "5 x 9 = 45\n",
      "5 x 10 = 50\n"
     ]
    }
   ],
   "source": [
    "def multi_table(a,n):\n",
    "    for i in range (1,11):\n",
    "        print(a,\"x\",i,'=',a*i)\n",
    "a=5\n",
    "multi_table(a,n)\n"
   ]
  },
  {
   "cell_type": "markdown",
   "id": "e6ae614c",
   "metadata": {},
   "source": [
    "# 7.find factorial of a number"
   ]
  },
  {
   "cell_type": "code",
   "execution_count": 68,
   "id": "65075503",
   "metadata": {},
   "outputs": [
    {
     "name": "stdout",
     "output_type": "stream",
     "text": [
      "1\n",
      "2\n",
      "6\n"
     ]
    }
   ],
   "source": [
    "def factorial(n):\n",
    "    fact=1\n",
    "    for i in range(1,n+1):\n",
    "\n",
    "        if n==0:\n",
    "            print(n,\"is factorial\")\n",
    "        elif n>0:\n",
    "            fact=fact*i\n",
    "        \n",
    "            print(fact)\n",
    "        else:\n",
    "            print(\"Factorial not exist\")\n",
    "n=3\n",
    "factorial(n)"
   ]
  },
  {
   "cell_type": "markdown",
   "id": "ed220179",
   "metadata": {},
   "source": [
    "# 8. convert decimal to binary ,octal and hexadecimal"
   ]
  },
  {
   "cell_type": "code",
   "execution_count": 51,
   "id": "10705fce",
   "metadata": {},
   "outputs": [
    {
     "name": "stdout",
     "output_type": "stream",
     "text": [
      "0b1010\n",
      "0o12\n",
      "0xa\n"
     ]
    }
   ],
   "source": [
    "dec=10\n",
    "\n",
    "print(bin(dec))\n",
    "print(oct(dec))\n",
    "print(hex(dec))"
   ]
  },
  {
   "cell_type": "code",
   "execution_count": null,
   "id": "33cbdb51",
   "metadata": {},
   "outputs": [],
   "source": []
  }
 ],
 "metadata": {
  "kernelspec": {
   "display_name": "Python 3 (ipykernel)",
   "language": "python",
   "name": "python3"
  },
  "language_info": {
   "codemirror_mode": {
    "name": "ipython",
    "version": 3
   },
   "file_extension": ".py",
   "mimetype": "text/x-python",
   "name": "python",
   "nbconvert_exporter": "python",
   "pygments_lexer": "ipython3",
   "version": "3.9.13"
  }
 },
 "nbformat": 4,
 "nbformat_minor": 5
}
